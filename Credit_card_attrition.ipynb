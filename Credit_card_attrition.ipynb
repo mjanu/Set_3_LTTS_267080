{
 "cells": [
  {
   "cell_type": "code",
   "execution_count": 2,
   "metadata": {},
   "outputs": [],
   "source": [
    "import pandas as pd\n",
    "import numpy as np"
   ]
  },
  {
   "cell_type": "code",
   "execution_count": 3,
   "metadata": {},
   "outputs": [
    {
     "data": {
      "text/html": [
       "<div>\n",
       "<style scoped>\n",
       "    .dataframe tbody tr th:only-of-type {\n",
       "        vertical-align: middle;\n",
       "    }\n",
       "\n",
       "    .dataframe tbody tr th {\n",
       "        vertical-align: top;\n",
       "    }\n",
       "\n",
       "    .dataframe thead th {\n",
       "        text-align: right;\n",
       "    }\n",
       "</style>\n",
       "<table border=\"1\" class=\"dataframe\">\n",
       "  <thead>\n",
       "    <tr style=\"text-align: right;\">\n",
       "      <th></th>\n",
       "      <th>CLIENTNUM</th>\n",
       "      <th>Attrition_Flag</th>\n",
       "      <th>Customer_Age</th>\n",
       "      <th>Gender</th>\n",
       "      <th>Dependent_count</th>\n",
       "      <th>Education_Level</th>\n",
       "      <th>Marital_Status</th>\n",
       "      <th>Income_Category</th>\n",
       "      <th>Card_Category</th>\n",
       "      <th>Months_on_book</th>\n",
       "      <th>...</th>\n",
       "      <th>Trans_Amt_Dec12</th>\n",
       "      <th>Trans_Amt_Jan13</th>\n",
       "      <th>Trans_Amt_Feb13</th>\n",
       "      <th>Trans_Amt_Mar13</th>\n",
       "      <th>Trans_Count_Oct12</th>\n",
       "      <th>Trans_Count_Nov12</th>\n",
       "      <th>Trans_Count_Dec12</th>\n",
       "      <th>Trans_Count_Jan13</th>\n",
       "      <th>Trans_Count_Feb13</th>\n",
       "      <th>Trans_Count_Mar13</th>\n",
       "    </tr>\n",
       "  </thead>\n",
       "  <tbody>\n",
       "    <tr>\n",
       "      <th>0</th>\n",
       "      <td>768805383</td>\n",
       "      <td>0</td>\n",
       "      <td>45.0</td>\n",
       "      <td>M</td>\n",
       "      <td>3</td>\n",
       "      <td>High School</td>\n",
       "      <td>Married</td>\n",
       "      <td>$60K - $80K</td>\n",
       "      <td>Blue</td>\n",
       "      <td>39</td>\n",
       "      <td>...</td>\n",
       "      <td>253</td>\n",
       "      <td>196</td>\n",
       "      <td>196</td>\n",
       "      <td>262</td>\n",
       "      <td>0</td>\n",
       "      <td>7</td>\n",
       "      <td>9</td>\n",
       "      <td>12</td>\n",
       "      <td>7</td>\n",
       "      <td>7</td>\n",
       "    </tr>\n",
       "    <tr>\n",
       "      <th>1</th>\n",
       "      <td>818770008</td>\n",
       "      <td>0</td>\n",
       "      <td>49.0</td>\n",
       "      <td>F</td>\n",
       "      <td>5</td>\n",
       "      <td>Graduate</td>\n",
       "      <td>Single</td>\n",
       "      <td>Less than $40K</td>\n",
       "      <td>Blue</td>\n",
       "      <td>44</td>\n",
       "      <td>...</td>\n",
       "      <td>242</td>\n",
       "      <td>323</td>\n",
       "      <td>222</td>\n",
       "      <td>238</td>\n",
       "      <td>0</td>\n",
       "      <td>1</td>\n",
       "      <td>6</td>\n",
       "      <td>11</td>\n",
       "      <td>7</td>\n",
       "      <td>8</td>\n",
       "    </tr>\n",
       "    <tr>\n",
       "      <th>2</th>\n",
       "      <td>713982108</td>\n",
       "      <td>0</td>\n",
       "      <td>51.0</td>\n",
       "      <td>M</td>\n",
       "      <td>3</td>\n",
       "      <td>Graduate</td>\n",
       "      <td>Married</td>\n",
       "      <td>$80K - $120K</td>\n",
       "      <td>Blue</td>\n",
       "      <td>36</td>\n",
       "      <td>...</td>\n",
       "      <td>330</td>\n",
       "      <td>967</td>\n",
       "      <td>213</td>\n",
       "      <td>182</td>\n",
       "      <td>0</td>\n",
       "      <td>1</td>\n",
       "      <td>5</td>\n",
       "      <td>5</td>\n",
       "      <td>4</td>\n",
       "      <td>5</td>\n",
       "    </tr>\n",
       "    <tr>\n",
       "      <th>3</th>\n",
       "      <td>769911858</td>\n",
       "      <td>0</td>\n",
       "      <td>40.0</td>\n",
       "      <td>F</td>\n",
       "      <td>4</td>\n",
       "      <td>High School</td>\n",
       "      <td>Unknown</td>\n",
       "      <td>Less than $40K</td>\n",
       "      <td>Blue</td>\n",
       "      <td>34</td>\n",
       "      <td>...</td>\n",
       "      <td>166</td>\n",
       "      <td>184</td>\n",
       "      <td>285</td>\n",
       "      <td>215</td>\n",
       "      <td>0</td>\n",
       "      <td>4</td>\n",
       "      <td>2</td>\n",
       "      <td>5</td>\n",
       "      <td>2</td>\n",
       "      <td>7</td>\n",
       "    </tr>\n",
       "    <tr>\n",
       "      <th>4</th>\n",
       "      <td>709106358</td>\n",
       "      <td>0</td>\n",
       "      <td>40.0</td>\n",
       "      <td>M</td>\n",
       "      <td>3</td>\n",
       "      <td>Uneducated</td>\n",
       "      <td>Married</td>\n",
       "      <td>$60K - $80K</td>\n",
       "      <td>Blue</td>\n",
       "      <td>21</td>\n",
       "      <td>...</td>\n",
       "      <td>149</td>\n",
       "      <td>192</td>\n",
       "      <td>88</td>\n",
       "      <td>279</td>\n",
       "      <td>0</td>\n",
       "      <td>1</td>\n",
       "      <td>7</td>\n",
       "      <td>9</td>\n",
       "      <td>5</td>\n",
       "      <td>6</td>\n",
       "    </tr>\n",
       "  </tbody>\n",
       "</table>\n",
       "<p>5 rows × 27 columns</p>\n",
       "</div>"
      ],
      "text/plain": [
       "   CLIENTNUM  Attrition_Flag  Customer_Age Gender  Dependent_count  \\\n",
       "0  768805383               0          45.0      M                3   \n",
       "1  818770008               0          49.0      F                5   \n",
       "2  713982108               0          51.0      M                3   \n",
       "3  769911858               0          40.0      F                4   \n",
       "4  709106358               0          40.0      M                3   \n",
       "\n",
       "  Education_Level Marital_Status Income_Category Card_Category  \\\n",
       "0     High School        Married     $60K - $80K          Blue   \n",
       "1        Graduate         Single  Less than $40K          Blue   \n",
       "2        Graduate        Married    $80K - $120K          Blue   \n",
       "3     High School        Unknown  Less than $40K          Blue   \n",
       "4      Uneducated        Married     $60K - $80K          Blue   \n",
       "\n",
       "   Months_on_book        ...          Trans_Amt_Dec12  Trans_Amt_Jan13  \\\n",
       "0              39        ...                      253              196   \n",
       "1              44        ...                      242              323   \n",
       "2              36        ...                      330              967   \n",
       "3              34        ...                      166              184   \n",
       "4              21        ...                      149              192   \n",
       "\n",
       "   Trans_Amt_Feb13  Trans_Amt_Mar13  Trans_Count_Oct12  Trans_Count_Nov12  \\\n",
       "0              196              262                  0                  7   \n",
       "1              222              238                  0                  1   \n",
       "2              213              182                  0                  1   \n",
       "3              285              215                  0                  4   \n",
       "4               88              279                  0                  1   \n",
       "\n",
       "   Trans_Count_Dec12  Trans_Count_Jan13  Trans_Count_Feb13  Trans_Count_Mar13  \n",
       "0                  9                 12                  7                  7  \n",
       "1                  6                 11                  7                  8  \n",
       "2                  5                  5                  4                  5  \n",
       "3                  2                  5                  2                  7  \n",
       "4                  7                  9                  5                  6  \n",
       "\n",
       "[5 rows x 27 columns]"
      ]
     },
     "execution_count": 3,
     "metadata": {},
     "output_type": "execute_result"
    }
   ],
   "source": [
    "df_1=pd.read_csv('train_credit.csv')\n",
    "df_1.head()"
   ]
  },
  {
   "cell_type": "code",
   "execution_count": 4,
   "metadata": {},
   "outputs": [
    {
     "data": {
      "text/plain": [
       "0"
      ]
     },
     "execution_count": 4,
     "metadata": {},
     "output_type": "execute_result"
    }
   ],
   "source": [
    "#checking is there any duplicated value is present ?\n",
    "sum(df_1.duplicated())"
   ]
  },
  {
   "cell_type": "code",
   "execution_count": 5,
   "metadata": {},
   "outputs": [
    {
     "data": {
      "text/plain": [
       "0        False\n",
       "1        False\n",
       "2        False\n",
       "3        False\n",
       "4        False\n",
       "5        False\n",
       "6        False\n",
       "7        False\n",
       "8        False\n",
       "9        False\n",
       "10       False\n",
       "11       False\n",
       "12       False\n",
       "13       False\n",
       "14       False\n",
       "15       False\n",
       "16       False\n",
       "17       False\n",
       "18       False\n",
       "19       False\n",
       "20       False\n",
       "21       False\n",
       "22       False\n",
       "23       False\n",
       "24       False\n",
       "25       False\n",
       "26       False\n",
       "27       False\n",
       "28       False\n",
       "29       False\n",
       "         ...  \n",
       "10097    False\n",
       "10098    False\n",
       "10099    False\n",
       "10100    False\n",
       "10101    False\n",
       "10102    False\n",
       "10103    False\n",
       "10104    False\n",
       "10105    False\n",
       "10106    False\n",
       "10107    False\n",
       "10108    False\n",
       "10109    False\n",
       "10110    False\n",
       "10111    False\n",
       "10112    False\n",
       "10113    False\n",
       "10114    False\n",
       "10115    False\n",
       "10116    False\n",
       "10117    False\n",
       "10118    False\n",
       "10119    False\n",
       "10120    False\n",
       "10121    False\n",
       "10122    False\n",
       "10123    False\n",
       "10124    False\n",
       "10125    False\n",
       "10126    False\n",
       "Length: 10127, dtype: bool"
      ]
     },
     "execution_count": 5,
     "metadata": {},
     "output_type": "execute_result"
    }
   ],
   "source": [
    "# Step1 check is clientnum column is having duplicate values or not?\n",
    "df_1.filter(items=['CLIENTNUM']).duplicated()"
   ]
  },
  {
   "cell_type": "code",
   "execution_count": 6,
   "metadata": {},
   "outputs": [
    {
     "data": {
      "text/plain": [
       "CLIENTNUM                    0\n",
       "Attrition_Flag               0\n",
       "Customer_Age                14\n",
       "Gender                       0\n",
       "Dependent_count              0\n",
       "Education_Level              0\n",
       "Marital_Status               0\n",
       "Income_Category              0\n",
       "Card_Category                0\n",
       "Months_on_book               0\n",
       "Total_Relationship_Count     0\n",
       "Months_Inactive_12_mon       0\n",
       "Contacts_Count_12_mon        0\n",
       "Credit_Limit                 4\n",
       "Total_Revolving_Bal          0\n",
       "Trans_Amt_Oct12              0\n",
       "Trans_Amt_Nov12              0\n",
       "Trans_Amt_Dec12              0\n",
       "Trans_Amt_Jan13              0\n",
       "Trans_Amt_Feb13              0\n",
       "Trans_Amt_Mar13              0\n",
       "Trans_Count_Oct12            0\n",
       "Trans_Count_Nov12            0\n",
       "Trans_Count_Dec12            0\n",
       "Trans_Count_Jan13            0\n",
       "Trans_Count_Feb13            0\n",
       "Trans_Count_Mar13            0\n",
       "dtype: int64"
      ]
     },
     "execution_count": 6,
     "metadata": {},
     "output_type": "execute_result"
    }
   ],
   "source": [
    "# check missing\n",
    "df_1.isnull().sum()"
   ]
  },
  {
   "cell_type": "code",
   "execution_count": 7,
   "metadata": {},
   "outputs": [],
   "source": [
    "# Treat Missing values\n",
    "df_1['Customer_Age'].fillna(df_1['Customer_Age'].median,inplace=True)\n",
    "df_1['Credit_Limit'].fillna(df_1['Credit_Limit'].median,inplace=True)"
   ]
  },
  {
   "cell_type": "code",
   "execution_count": 8,
   "metadata": {},
   "outputs": [
    {
     "data": {
      "text/plain": [
       "CLIENTNUM                   0\n",
       "Attrition_Flag              0\n",
       "Customer_Age                0\n",
       "Gender                      0\n",
       "Dependent_count             0\n",
       "Education_Level             0\n",
       "Marital_Status              0\n",
       "Income_Category             0\n",
       "Card_Category               0\n",
       "Months_on_book              0\n",
       "Total_Relationship_Count    0\n",
       "Months_Inactive_12_mon      0\n",
       "Contacts_Count_12_mon       0\n",
       "Credit_Limit                0\n",
       "Total_Revolving_Bal         0\n",
       "Trans_Amt_Oct12             0\n",
       "Trans_Amt_Nov12             0\n",
       "Trans_Amt_Dec12             0\n",
       "Trans_Amt_Jan13             0\n",
       "Trans_Amt_Feb13             0\n",
       "Trans_Amt_Mar13             0\n",
       "Trans_Count_Oct12           0\n",
       "Trans_Count_Nov12           0\n",
       "Trans_Count_Dec12           0\n",
       "Trans_Count_Jan13           0\n",
       "Trans_Count_Feb13           0\n",
       "Trans_Count_Mar13           0\n",
       "dtype: int64"
      ]
     },
     "execution_count": 8,
     "metadata": {},
     "output_type": "execute_result"
    }
   ],
   "source": [
    "df_1.isnull().sum()"
   ]
  },
  {
   "cell_type": "code",
   "execution_count": 9,
   "metadata": {},
   "outputs": [
    {
     "data": {
      "text/plain": [
       "Index(['CLIENTNUM', 'Attrition_Flag', 'Customer_Age', 'Gender',\n",
       "       'Dependent_count', 'Education_Level', 'Marital_Status',\n",
       "       'Income_Category', 'Card_Category', 'Months_on_book',\n",
       "       'Total_Relationship_Count', 'Months_Inactive_12_mon',\n",
       "       'Contacts_Count_12_mon', 'Credit_Limit', 'Total_Revolving_Bal',\n",
       "       'Trans_Amt_Oct12', 'Trans_Amt_Nov12', 'Trans_Amt_Dec12',\n",
       "       'Trans_Amt_Jan13', 'Trans_Amt_Feb13', 'Trans_Amt_Mar13',\n",
       "       'Trans_Count_Oct12', 'Trans_Count_Nov12', 'Trans_Count_Dec12',\n",
       "       'Trans_Count_Jan13', 'Trans_Count_Feb13', 'Trans_Count_Mar13'],\n",
       "      dtype='object')"
      ]
     },
     "execution_count": 9,
     "metadata": {},
     "output_type": "execute_result"
    }
   ],
   "source": [
    "df_1.columns"
   ]
  },
  {
   "cell_type": "code",
   "execution_count": 10,
   "metadata": {},
   "outputs": [],
   "source": [
    "df_1['Tr_amt_oct12_nov12_dec12']=df_1['Trans_Amt_Oct12']+df_1['Trans_Amt_Nov12']+df_1['Trans_Amt_Dec12']\n",
    "df_1['Tr_amt_jan13_feb13_mar13']=df_1['Trans_Amt_Jan13']+df_1['Trans_Amt_Feb13']+df_1['Trans_Amt_Mar13']\n",
    "df_1['Tr_cnt_oct12_nov12_dec12']=df_1['Trans_Count_Oct12']+df_1['Trans_Count_Nov12']+df_1['Trans_Count_Dec12']\n",
    "df_1['Tr_cnt_jan13_feb13_mar13']=df_1['Trans_Count_Jan13']+df_1['Trans_Count_Feb13']+df_1['Trans_Count_Mar13']"
   ]
  },
  {
   "cell_type": "code",
   "execution_count": 11,
   "metadata": {},
   "outputs": [],
   "source": [
    "#df_1['Tr_amt_oct12_nov12_dec12']"
   ]
  },
  {
   "cell_type": "code",
   "execution_count": 12,
   "metadata": {},
   "outputs": [],
   "source": [
    "df_1['Ra_1']=df_1['Tr_amt_jan13_feb13_mar13']/df_1['Tr_amt_oct12_nov12_dec12']\n",
    "df_1['Ra_2']=df_1['Tr_cnt_jan13_feb13_mar13']/df_1['Tr_cnt_oct12_nov12_dec12']\n",
    "#df_1['Ra_3']=df_1['Total_Revolving_Bal']/df_1['Credit_Limit']"
   ]
  },
  {
   "cell_type": "code",
   "execution_count": 13,
   "metadata": {},
   "outputs": [
    {
     "data": {
      "text/plain": [
       "dtype('int64')"
      ]
     },
     "execution_count": 13,
     "metadata": {},
     "output_type": "execute_result"
    }
   ],
   "source": [
    "df_1['Total_Revolving_Bal'].dtype"
   ]
  },
  {
   "cell_type": "code",
   "execution_count": 14,
   "metadata": {},
   "outputs": [
    {
     "data": {
      "text/plain": [
       "dtype('O')"
      ]
     },
     "execution_count": 14,
     "metadata": {},
     "output_type": "execute_result"
    }
   ],
   "source": [
    "df_1['Credit_Limit'].dtype"
   ]
  },
  {
   "cell_type": "code",
   "execution_count": 15,
   "metadata": {},
   "outputs": [
    {
     "data": {
      "text/plain": [
       "0        12691\n",
       "1         8256\n",
       "2         3418\n",
       "3         3313\n",
       "4         4716\n",
       "5         4010\n",
       "6        90148\n",
       "7        29081\n",
       "8        22352\n",
       "9        11656\n",
       "10        6748\n",
       "11        9095\n",
       "12       11751\n",
       "13        8547\n",
       "14        2436\n",
       "15        4234\n",
       "16       30367\n",
       "17       13535\n",
       "18        3193\n",
       "19       14470\n",
       "20       20979\n",
       "21         932\n",
       "22        4470\n",
       "23        2492\n",
       "24       12217\n",
       "25        7768\n",
       "26       14784\n",
       "27       10215\n",
       "28       10100\n",
       "29        4785\n",
       "         ...  \n",
       "10097     4493\n",
       "10098    64469\n",
       "10099     8900\n",
       "10100    29808\n",
       "10101     3735\n",
       "10102     8398\n",
       "10103    22754\n",
       "10104    29663\n",
       "10105     5043\n",
       "10106     4299\n",
       "10107    11859\n",
       "10108    17504\n",
       "10109     4165\n",
       "10110    51839\n",
       "10111     6481\n",
       "10112    95922\n",
       "10113    13303\n",
       "10114     4700\n",
       "10115     5639\n",
       "10116    13187\n",
       "10117    17925\n",
       "10118     9959\n",
       "10119    14657\n",
       "10120    13940\n",
       "10121     3688\n",
       "10122     4003\n",
       "10123     4277\n",
       "10124     5409\n",
       "10125     5281\n",
       "10126    10388\n",
       "Name: Credit_Limit, Length: 10127, dtype: object"
      ]
     },
     "execution_count": 15,
     "metadata": {},
     "output_type": "execute_result"
    }
   ],
   "source": [
    "df_1['Credit_Limit']"
   ]
  },
  {
   "cell_type": "code",
   "execution_count": 16,
   "metadata": {},
   "outputs": [],
   "source": [
    " #df_1[\"Credit_Limit\"]=pd.to_numeric(df_1[\"Credit_Limit\"])"
   ]
  },
  {
   "cell_type": "code",
   "execution_count": 17,
   "metadata": {},
   "outputs": [],
   "source": [
    "import matplotlib.pyplot as plt"
   ]
  },
  {
   "cell_type": "code",
   "execution_count": 18,
   "metadata": {},
   "outputs": [],
   "source": [
    "%matplotlib inline"
   ]
  },
  {
   "cell_type": "code",
   "execution_count": 19,
   "metadata": {},
   "outputs": [],
   "source": [
    "#type(df_1['Credit_Limit'][2])"
   ]
  },
  {
   "cell_type": "code",
   "execution_count": 20,
   "metadata": {},
   "outputs": [],
   "source": [
    "features=['Tr_amt_oct12_nov12_dec12','Tr_amt_jan13_feb13_mar13','Tr_cnt_oct12_nov12_dec12','Tr_cnt_jan13_feb13_mar13','Ra_1','Ra_2','Months_Inactive_12_mon']"
   ]
  },
  {
   "cell_type": "code",
   "execution_count": 21,
   "metadata": {},
   "outputs": [],
   "source": [
    "X=df_1[features]\n",
    "y=df_1['Attrition_Flag']"
   ]
  },
  {
   "cell_type": "code",
   "execution_count": 22,
   "metadata": {},
   "outputs": [
    {
     "data": {
      "text/plain": [
       "dtype('int64')"
      ]
     },
     "execution_count": 22,
     "metadata": {},
     "output_type": "execute_result"
    }
   ],
   "source": [
    "df_1['Months_Inactive_12_mon'].dtype"
   ]
  },
  {
   "cell_type": "code",
   "execution_count": 23,
   "metadata": {},
   "outputs": [],
   "source": [
    "from sklearn.model_selection import train_test_split"
   ]
  },
  {
   "cell_type": "code",
   "execution_count": 24,
   "metadata": {},
   "outputs": [],
   "source": [
    "X_train,X_test,y_train,y_test=train_test_split(X,y,test_size=0.3)"
   ]
  },
  {
   "cell_type": "code",
   "execution_count": 25,
   "metadata": {},
   "outputs": [],
   "source": [
    "#from sklearn.model_selection import GridSearchCV\n",
    "from sklearn.tree import DecisionTreeClassifier\n",
    "from sklearn.neighbors import KNeighborsClassifier\n",
    "from sklearn.svm import SVC"
   ]
  },
  {
   "cell_type": "code",
   "execution_count": 26,
   "metadata": {},
   "outputs": [
    {
     "name": "stdout",
     "output_type": "stream",
     "text": [
      "[22:08:40] WARNING: C:/Users/Administrator/workspace/xgboost-win64_release_1.4.0/src/learner.cc:573: \n",
      "Parameters: { \"silent\" } might not be used.\n",
      "\n",
      "  This may not be accurate due to some parameters are only used in language bindings but\n",
      "  passed down to XGBoost core.  Or some parameters are not used but slip through this\n",
      "  verification. Please open an issue if you find above cases.\n",
      "\n",
      "\n"
     ]
    },
    {
     "data": {
      "text/plain": [
       "XGBRegressor(base_score=0.5, booster='gbtree', colsample_bylevel=1,\n",
       "       colsample_bynode=1, colsample_bytree=0.2, gamma=0.0, gpu_id=-1,\n",
       "       importance_type='gain', interaction_constraints='',\n",
       "       learning_rate=0.05, max_delta_step=0, max_depth=6,\n",
       "       min_child_weight=1.5, missing=nan, monotone_constraints='()',\n",
       "       n_estimators=7200, n_jobs=4, num_parallel_tree=1,\n",
       "       objective='reg:squarederror', random_state=42, reg_alpha=0.9,\n",
       "       reg_lambda=0.6, scale_pos_weight=1, seed=42, silent=1,\n",
       "       subsample=0.2, tree_method='exact', validate_parameters=1,\n",
       "       verbosity=None)"
      ]
     },
     "execution_count": 26,
     "metadata": {},
     "output_type": "execute_result"
    }
   ],
   "source": [
    "import xgboost as xgb\n",
    "regr=xgb.XGBRegressor(colsample_bytree=0.2,\n",
    "                     gamma=0.0,\n",
    "                     learning_rate=0.05,\n",
    "                     max_depth=6,\n",
    "                     min_child_weight=1.5,\n",
    "                     n_estimators=7200,\n",
    "                     reg_alpha=0.9,\n",
    "                     reg_lambda=0.6,\n",
    "                     subsample=0.2,\n",
    "                     seed=42,\n",
    "                     silent=1)\n",
    "\n",
    "regr.fit(X_train,y_train)"
   ]
  },
  {
   "cell_type": "code",
   "execution_count": null,
   "metadata": {},
   "outputs": [],
   "source": [
    "y_pred=regr.predict()"
   ]
  },
  {
   "cell_type": "code",
   "execution_count": null,
   "metadata": {},
   "outputs": [],
   "source": [
    "from sklearn.metrics import mean_squared_error\n",
    "def rmse(y_test,y_pred):\n",
    "    return np.sqrt(mean_squared_error(y_test,y_pred))\n",
    "\n",
    "# prediction on training set\n",
    "\n",
    "y_pred=regr.predict(X_test[top_coefs.index])\n",
    "\n",
    "print(\"XGBoost score on training set:\",rmse(y_test,y_pred))\n"
   ]
  }
 ],
 "metadata": {
  "kernelspec": {
   "display_name": "Python 3",
   "language": "python",
   "name": "python3"
  },
  "language_info": {
   "codemirror_mode": {
    "name": "ipython",
    "version": 3
   },
   "file_extension": ".py",
   "mimetype": "text/x-python",
   "name": "python",
   "nbconvert_exporter": "python",
   "pygments_lexer": "ipython3",
   "version": "3.6.5"
  }
 },
 "nbformat": 4,
 "nbformat_minor": 2
}
